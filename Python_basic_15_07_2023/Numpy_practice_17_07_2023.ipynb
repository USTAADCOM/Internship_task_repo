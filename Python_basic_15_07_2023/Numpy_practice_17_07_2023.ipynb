{
  "nbformat": 4,
  "nbformat_minor": 0,
  "metadata": {
    "colab": {
      "provenance": []
    },
    "kernelspec": {
      "name": "python3",
      "display_name": "Python 3"
    },
    "language_info": {
      "name": "python"
    }
  },
  "cells": [
    {
      "cell_type": "code",
      "execution_count": 15,
      "metadata": {
        "colab": {
          "base_uri": "https://localhost:8080/"
        },
        "id": "kqkEEONBw4gX",
        "outputId": "1162af12-aaa9-4725-a3ea-6405c6164dc9"
      },
      "outputs": [
        {
          "output_type": "stream",
          "name": "stdout",
          "text": [
            "2\n",
            "<class 'numpy.ndarray'>\n",
            "(3, 3)\n",
            "9\n"
          ]
        }
      ],
      "source": [
        "import numpy as np\n",
        "\n",
        "# Check the axes or dimensions of array\n",
        "matrix_arr = np.array([[1,2,3],\n",
        "                     [4,5,6],\n",
        "                     [6,7,8]])\n",
        "print(matrix_arr.ndim)\n",
        "\n",
        "# print tha type of object\n",
        "print(type(matrix_arr))\n",
        "\n",
        "# print array shape\n",
        "print(matrix_arr.shape)\n",
        "\n",
        "# print size of array (Number of elements in array)\n",
        "print(matrix_arr.size)"
      ]
    },
    {
      "cell_type": "markdown",
      "source": [
        "**Array Creation using Numpy**\n",
        "\n",
        " **dtype** can past while creating array as argument to define the type of the array"
      ],
      "metadata": {
        "id": "Iu2P4-la3Nkq"
      }
    },
    {
      "cell_type": "markdown",
      "source": [],
      "metadata": {
        "id": "sKfb74tE6JJn"
      }
    },
    {
      "cell_type": "code",
      "source": [
        "import numpy as np\n",
        "matrix_arr = np.array([[1,2,3], [1,2,3]])\n",
        "# array created using simple array method and passing values in rows and columns\n",
        "print(\"Array created simple array ,method\")\n",
        "print(matrix_arr)\n",
        "\n",
        "# create array by passing tuple to the array\n",
        "matrix_arr = np.array((1, 2, 3, 4))\n",
        "print(\"Array created by using tuple\")\n",
        "print(matrix_arr)\n",
        "\n",
        "# create array by using np.zeros method\n",
        "matrix_arr = np.zeros((3,4))\n",
        "print(\"Array created by using np.zeros method\")\n",
        "print(matrix_arr)\n",
        "\n",
        "\n",
        "# create array by using full method\n",
        "matrix_arr = np.full((2,3),12)\n",
        "print(\"Array created by using full method\")\n",
        "print(matrix_arr)\n",
        "\n",
        "# create array by using arrange method\n",
        "matrix_arr = np.arange(0,21, 5)\n",
        "print(\"Array created by using arange method\")\n",
        "print(matrix_arr)\n",
        "\n",
        "# create array by using random method\n",
        "matrix_arr=np.random.randn(2,2)\n",
        "print(\"Array created by using random method\")\n",
        "print(matrix_arr)\n",
        "\n",
        "# create array by using linspace method\n",
        "matrix_arr=np.linspace(0, 10, 5)\n",
        "print(\"Array created by using linspace method\")\n",
        "print(matrix_arr)\n",
        "\n",
        "matrix_arr=np.array([[1,2,3],\n",
        "                     [1,2,3],\n",
        "                     [1,2,3]])\n",
        "#create a flatten array of the above given array\n",
        "print(matrix_arr.flatten())"
      ],
      "metadata": {
        "colab": {
          "base_uri": "https://localhost:8080/"
        },
        "id": "ekFOjjf-3cAX",
        "outputId": "abec82b0-184a-40cd-898f-afbcfbb2f51b"
      },
      "execution_count": 47,
      "outputs": [
        {
          "output_type": "stream",
          "name": "stdout",
          "text": [
            "Array created simple array ,method\n",
            "[[1 2 3]\n",
            " [1 2 3]]\n",
            "Array created by using tuple\n",
            "[1 2 3 4]\n",
            "Array created by using np.zeros method\n",
            "[[0. 0. 0. 0.]\n",
            " [0. 0. 0. 0.]\n",
            " [0. 0. 0. 0.]]\n",
            "Array created by using full method\n",
            "[[12 12 12]\n",
            " [12 12 12]]\n",
            "Array created by using arange method\n",
            "[ 0  5 10 15 20]\n",
            "Array created by using random method\n",
            "[[-0.38380794 -0.25135063]\n",
            " [-0.07409157  1.46349848]]\n",
            "Array created by using linspace method\n",
            "[ 0.   2.5  5.   7.5 10. ]\n",
            "[1 2 3 1 2 3 1 2 3]\n"
          ]
        }
      ]
    },
    {
      "cell_type": "markdown",
      "source": [
        "**Array indexing**\n",
        "-> slicing  -> interger indexing  -> boolean indexing\n",
        "\n",
        "\n"
      ],
      "metadata": {
        "id": "ctOriXIyL2FM"
      }
    },
    {
      "cell_type": "code",
      "source": [
        "import numpy as np\n",
        "matrix_arr = np.array([[1,2,3,4],\n",
        "                     [5,6,7,8],\n",
        "                     [9,10,11,12],\n",
        "                     [13,14,15,16]])\n",
        "print(\"ORiginal array \")\n",
        "print(matrix_arr)\n",
        "\n",
        "#array slicing\n",
        "print(\"Print array using slicing\")\n",
        "print(\"array first three rwos\")\n",
        "print(matrix_arr[:3])\n",
        "\n",
        "print('Array row index 1 to 2 Here 1 is include and 3 is excluede')\n",
        "print(matrix_arr[1:3])\n",
        "\n",
        "print(\"Print array with slicing by passing secified column slicing\")\n",
        "print('Here we pass 0::2 for column (0::2) 0 and 2 is include (0:2) 0 to 1')\n",
        "\n",
        "print(\"0th and 2nd column\")\n",
        "print(matrix_arr[1:3, 0::2])\n",
        "print('0th to 1st column')\n",
        "print(matrix_arr[1:3, 0:2])\n",
        "\n",
        "#First index represent row and second column as 1 row 1 column\n",
        "arr = matrix_arr[[0, 1, 2, 3], [0, 1, 2, 3]]\n",
        "print(\"Printing corresponding rows and column\")\n",
        "print(arr)\n",
        "\n",
        "# array indexing with specific condition\n",
        "print(matrix_arr > 2) # it wil craete an array with true and false according the condition\n",
        "\n",
        "bool_arr=matrix_arr > 5\n",
        "print(matrix_arr[bool_arr]) # printing the array elements where bool is true as plane array"
      ],
      "metadata": {
        "colab": {
          "base_uri": "https://localhost:8080/"
        },
        "id": "_aalJJ8FMBLP",
        "outputId": "4892a72f-0c18-43d0-e776-539d2c8e5858"
      },
      "execution_count": 69,
      "outputs": [
        {
          "output_type": "stream",
          "name": "stdout",
          "text": [
            "ORiginal array \n",
            "[[ 1  2  3  4]\n",
            " [ 5  6  7  8]\n",
            " [ 9 10 11 12]\n",
            " [13 14 15 16]]\n",
            "Print array using slicing\n",
            "array first three rwos\n",
            "[[ 1  2  3  4]\n",
            " [ 5  6  7  8]\n",
            " [ 9 10 11 12]]\n",
            "Array row index 1 to 2 Here 1 is include and 3 is excluede\n",
            "[[ 5  6  7  8]\n",
            " [ 9 10 11 12]]\n",
            "Print array with slicing by passing secified column slicing\n",
            "Here we pass 0::2 for column (0::2) 0 and 2 is include (0:2) 0 to 1\n",
            "0th and 2nd column\n",
            "[[ 5  7]\n",
            " [ 9 11]]\n",
            "0th to 1st column\n",
            "[[ 5  6]\n",
            " [ 9 10]]\n",
            "Printing corresponding rows and column\n",
            "[ 1  6 11 16]\n",
            "[[False False  True  True]\n",
            " [ True  True  True  True]\n",
            " [ True  True  True  True]\n",
            " [ True  True  True  True]]\n",
            "[ 6  7  8  9 10 11 12 13 14 15 16]\n"
          ]
        }
      ]
    },
    {
      "cell_type": "markdown",
      "source": [
        "**Numpy arra basic operation**"
      ],
      "metadata": {
        "id": "lpL4UYZWTLil"
      }
    },
    {
      "cell_type": "code",
      "source": [
        "import numpy as np\n",
        "matrix_arr = np.array([[1,2,3,4],\n",
        "                     [5,6,7,8],\n",
        "                     [9,10,11,12],\n",
        "                     [13,14,15,16]])\n",
        "\n",
        "matrix_two = np.array([[1,2,3,4],\n",
        "                     [5,6,7,8],\n",
        "                     [9,10,11,12],\n",
        "                     [13,14,15,16]])\n",
        "matrix_one = np.array([[1,2,3,4],\n",
        "                     [5,6,7,8],\n",
        "                     [9,10,11,12],\n",
        "                     [13,14,15,16]])\n",
        "print(\"Multiply each number with specified number\")\n",
        "print(matrix_arr * 2)\n",
        "\n",
        "print(\"Multiply each number with specified number by using multiply function\")\n",
        "print(np.multiply(matrix_arr, 2))\n",
        "\n",
        "print(\"Adding two arrays\")\n",
        "print(matrix_one + matrix_two)\n",
        "\n",
        "print(\"subtract two arrays\")\n",
        "print(matrix_one - matrix_two)\n",
        "\n",
        "print(\"Element wise multiplication of two arrays\")\n",
        "print(matrix_one * matrix_two) # element wise multiplication each number is multiplied with corresponding number\n",
        "\n",
        "print(\"Taking transpose of a mtirx  array\")\n",
        "print(matrix_arr.T)\n",
        "\n",
        "print(\"Max value in a array\")\n",
        "print(matrix_arr.max())\n",
        "\n",
        "print(\"min value in a array\")\n",
        "print(matrix_arr.min())\n",
        "\n",
        "print(\"Max value in a array with row operation and return answer as matrix\")\n",
        "print(matrix_arr.max(axis=1)) # axis=1 represent row operation and axis=0 represent column operation\n",
        "\n",
        "print(\"Max value in a array with column operation and return answer as matrix\")\n",
        "print(matrix_arr.max(axis=0)) # axis=1 represent row operation and axis=0 represent column operation\n",
        "\n",
        "print(\"Sum of all array elements\")\n",
        "print(matrix_arr.sum())\n",
        "\n",
        "print(\"Cumulative sum in row operation \")\n",
        "print(matrix_arr.cumsum(axis = 1))\n",
        "\n",
        "print(\"Cumulative sum in column operation \")\n",
        "print(matrix_arr.cumsum(axis = 0))\n",
        "\n",
        "print(\"Matrix multiplication\")\n",
        "print(matrix_one.dot(matrix_two))\n",
        "\n",
        "print(\"Find square root of each element of array\")\n",
        "print(np.sqrt(matrix_arr))\n"
      ],
      "metadata": {
        "colab": {
          "base_uri": "https://localhost:8080/"
        },
        "id": "FVzakPb4TR4G",
        "outputId": "e0a0affc-1ced-4462-b65c-d494db658d11"
      },
      "execution_count": 88,
      "outputs": [
        {
          "output_type": "stream",
          "name": "stdout",
          "text": [
            "Multiply each number with specified number\n",
            "[[ 2  4  6  8]\n",
            " [10 12 14 16]\n",
            " [18 20 22 24]\n",
            " [26 28 30 32]]\n",
            "Multiply each number with specified number by using multiply function\n",
            "[[ 2  4  6  8]\n",
            " [10 12 14 16]\n",
            " [18 20 22 24]\n",
            " [26 28 30 32]]\n",
            "Adding two arrays\n",
            "[[ 2  4  6  8]\n",
            " [10 12 14 16]\n",
            " [18 20 22 24]\n",
            " [26 28 30 32]]\n",
            "subtract two arrays\n",
            "[[0 0 0 0]\n",
            " [0 0 0 0]\n",
            " [0 0 0 0]\n",
            " [0 0 0 0]]\n",
            "Element wise multiplication of two arrays\n",
            "[[  1   4   9  16]\n",
            " [ 25  36  49  64]\n",
            " [ 81 100 121 144]\n",
            " [169 196 225 256]]\n",
            "Taking transpose of a mtirx  array\n",
            "[[ 1  5  9 13]\n",
            " [ 2  6 10 14]\n",
            " [ 3  7 11 15]\n",
            " [ 4  8 12 16]]\n",
            "Max value in a array\n",
            "16\n",
            "min value in a array\n",
            "1\n",
            "Max value in a array with row operation and return answer as matrix\n",
            "[ 4  8 12 16]\n",
            "Max value in a array with column operation and return answer as matrix\n",
            "[13 14 15 16]\n",
            "Sum of all array elements\n",
            "136\n",
            "Cumulative sum in row operation \n",
            "[[ 1  3  6 10]\n",
            " [ 5 11 18 26]\n",
            " [ 9 19 30 42]\n",
            " [13 27 42 58]]\n",
            "Cumulative sum in column operation \n",
            "[[ 1  2  3  4]\n",
            " [ 6  8 10 12]\n",
            " [15 18 21 24]\n",
            " [28 32 36 40]]\n",
            "Matrix multiplication\n",
            "[[ 90 100 110 120]\n",
            " [202 228 254 280]\n",
            " [314 356 398 440]\n",
            " [426 484 542 600]]\n",
            "Find square root of each element of array\n",
            "[[1.         1.41421356 1.73205081 2.        ]\n",
            " [2.23606798 2.44948974 2.64575131 2.82842712]\n",
            " [3.         3.16227766 3.31662479 3.46410162]\n",
            " [3.60555128 3.74165739 3.87298335 4.        ]]\n"
          ]
        }
      ]
    },
    {
      "cell_type": "markdown",
      "source": [
        "**Sin values array manipulation**"
      ],
      "metadata": {
        "id": "rXF99pq-ZWmk"
      }
    },
    {
      "cell_type": "code",
      "source": [
        "import numpy as np\n",
        "\n",
        "sine_arr=np.array([np.pi, np.pi/2, np.pi/3, np.pi/4])\n",
        "print(\"sine array\")\n",
        "print(sine_arr)\n",
        "\n",
        "print(\"Find sine values of sine array\")\n",
        "print(np.sin(sine_arr))\n"
      ],
      "metadata": {
        "colab": {
          "base_uri": "https://localhost:8080/"
        },
        "id": "2umoDUyjZcBQ",
        "outputId": "fa2d2863-9dd9-4ac8-a4fe-ccddfa1d5e35"
      },
      "execution_count": 87,
      "outputs": [
        {
          "output_type": "stream",
          "name": "stdout",
          "text": [
            "sine array\n",
            "[3.14159265 1.57079633 1.04719755 0.78539816]\n",
            "Find sine values of sine array\n",
            "[1.22464680e-16 1.00000000e+00 8.66025404e-01 7.07106781e-01]\n"
          ]
        }
      ]
    },
    {
      "cell_type": "markdown",
      "source": [
        "**Sorting operation on arrays**"
      ],
      "metadata": {
        "id": "xZd5DX_AbAeJ"
      }
    },
    {
      "cell_type": "code",
      "source": [
        "import numpy as np\n",
        "matrix_arr = np.array([[2,3,1,4],\n",
        "                     [5,6,7,8],\n",
        "                     [9,10,11,12],\n",
        "                     [13,14,15,16]])\n",
        "\n",
        "print(\"Sort array all elemenst\")\n",
        "print(np.sort(matrix_arr, axis=None))\n",
        "\n",
        "print(\"Sort array all elemenst with row and column wise\")\n",
        "print(np.sort(matrix_arr))\n",
        "\n",
        "print(\"Sort array all elemenst with row wise\")\n",
        "print(np.sort(matrix_arr, axis=1))\n",
        "\n",
        "print(\"Sort array all elemenst with column wise\")\n",
        "print(np.sort(matrix_arr, axis=0))\n",
        "\n",
        "print(\"Sort array all elements by providing third argument as kind=sort_kind heap, quick, mergsort\")\n",
        "print(np.sort(matrix_arr, axis=1, kind=\"heap\"))"
      ],
      "metadata": {
        "colab": {
          "base_uri": "https://localhost:8080/"
        },
        "id": "BVKIHi2EbaeB",
        "outputId": "999d1eed-34c8-4832-f694-253fc93c3553"
      },
      "execution_count": 95,
      "outputs": [
        {
          "output_type": "stream",
          "name": "stdout",
          "text": [
            "Sort array all elemenst\n",
            "[ 1  2  3  4  5  6  7  8  9 10 11 12 13 14 15 16]\n",
            "Sort array all elemenst with row and column wise\n",
            "[[ 1  2  3  4]\n",
            " [ 5  6  7  8]\n",
            " [ 9 10 11 12]\n",
            " [13 14 15 16]]\n",
            "Sort array all elemenst with row wise\n",
            "[[ 1  2  3  4]\n",
            " [ 5  6  7  8]\n",
            " [ 9 10 11 12]\n",
            " [13 14 15 16]]\n",
            "Sort array all elemenst with column wise\n",
            "[[ 2  3  1  4]\n",
            " [ 5  6  7  8]\n",
            " [ 9 10 11 12]\n",
            " [13 14 15 16]]\n",
            "Sort array all elements by providing third argument as kind=sort_kind heap, quick, mergsort\n",
            "[[ 1  2  3  4]\n",
            " [ 5  6  7  8]\n",
            " [ 9 10 11 12]\n",
            " [13 14 15 16]]\n"
          ]
        }
      ]
    },
    {
      "cell_type": "markdown",
      "source": [
        "**Sorting array with provided data**"
      ],
      "metadata": {
        "id": "uWiMDtYxdbLe"
      }
    },
    {
      "cell_type": "code",
      "source": [
        "from os import name\n",
        "import numpy as np\n",
        "\n",
        "dtype = [('name', 'S10'), ('year', int), ('marks', float)]\n",
        "user_data = [('naseer', 2012, 875), ('ali', 2014, 900)]\n",
        "user_arr=np.array(user_data, dtype=dtype)\n",
        "print(\"Origional array\")\n",
        "print(user_arr)\n",
        "\n",
        "print(\"Array sort by name\")\n",
        "print(np.sort(user_arr, order='name'))\n",
        "\n",
        "print(\"Array sort by year\")\n",
        "print(np.sort(user_arr, order='year'))\n",
        "\n",
        "print(\"Array sort first by name and then  by year\")\n",
        "print(np.sort(user_arr, order=['marks', 'year']))"
      ],
      "metadata": {
        "colab": {
          "base_uri": "https://localhost:8080/"
        },
        "id": "wk1GyfGFdjQY",
        "outputId": "5503a25f-b946-4d30-e99f-b218d6aa6b2e"
      },
      "execution_count": 104,
      "outputs": [
        {
          "output_type": "stream",
          "name": "stdout",
          "text": [
            "Origional array\n",
            "[(b'naseer', 2012, 875.) (b'ali', 2014, 900.)]\n",
            "Array sort by name\n",
            "[(b'ali', 2014, 900.) (b'naseer', 2012, 875.)]\n",
            "Array sort by year\n",
            "[(b'naseer', 2012, 875.) (b'ali', 2014, 900.)]\n",
            "Array sort first by name and then  by year\n",
            "[(b'naseer', 2012, 875.) (b'ali', 2014, 900.)]\n"
          ]
        }
      ]
    },
    {
      "cell_type": "markdown",
      "source": [
        "**Resize numpy array**\n",
        "difference between reshape and resize. When we talk about reshape then an array changes it’s shape as temporary but when we talk about resize then the changes made permanently"
      ],
      "metadata": {
        "id": "_YhowBnrgAY0"
      }
    },
    {
      "cell_type": "code",
      "source": [
        "import numpy as np\n",
        "\n",
        "matrix_arr = np.array([1, 2, 3, 4, 5, 6])\n",
        "print(\"Pritn 1 by 7 array\")\n",
        "print(matrix_arr)\n",
        "\n",
        "print(\"Reshape the matrix given above\")\n",
        "print(np.reshape(matrix_arr, (2,3))) # it change the size of matrix temporarily\n",
        "\n",
        "print(\"Array after reshping the array\")\n",
        "matrix_arr.resize(2, 3)\n",
        "print(matrix_arr)\n",
        "\n",
        "print(\"Reshaping array with zeroz extended\")\n",
        "matrix_arr.resize(3, 3) # If the size of array is larger then the size of previous array then it will extend zeros\n",
        "print(matrix_arr)\n"
      ],
      "metadata": {
        "colab": {
          "base_uri": "https://localhost:8080/"
        },
        "id": "XabuF7mjgF-1",
        "outputId": "ccf92fd9-9e42-44d7-c2e5-49ea7edad49e"
      },
      "execution_count": 119,
      "outputs": [
        {
          "output_type": "stream",
          "name": "stdout",
          "text": [
            "Pritn 1 by 7 array\n",
            "[1 2 3 4 5 6]\n",
            "Reshape the matrix given above\n",
            "[[1 2 3]\n",
            " [4 5 6]]\n",
            "Array after reshping the array\n",
            "[[1 2 3]\n",
            " [4 5 6]]\n",
            "Reshaping array with zeroz extended\n",
            "[[1 2 3]\n",
            " [4 5 6]\n",
            " [0 0 0]]\n"
          ]
        }
      ]
    },
    {
      "cell_type": "markdown",
      "source": [
        "**numpy.ndarray.flat**"
      ],
      "metadata": {
        "id": "8bc88jYKn7ou"
      }
    },
    {
      "cell_type": "code",
      "source": [
        "import numpy as np\n",
        "\n",
        "matrix_arr = np.arange(9).reshape(3,3)\n",
        "print(matrix_arr)\n",
        "\n",
        "print(\"It create a 1-d array iterator over theh given array\")\n",
        "print(matrix_arr.flat[1:3])\n",
        "\n",
        "print(\"Replace the 1:3 elements of above array with 2\")\n",
        "matrix_arr.flat[1:3]=2\n",
        "print(matrix_arr)\n"
      ],
      "metadata": {
        "colab": {
          "base_uri": "https://localhost:8080/"
        },
        "id": "3hSN2BWaoDgR",
        "outputId": "f3852468-e34b-4840-d5ac-23962ddde1c3"
      },
      "execution_count": 126,
      "outputs": [
        {
          "output_type": "stream",
          "name": "stdout",
          "text": [
            "[[0 1 2]\n",
            " [3 4 5]\n",
            " [6 7 8]]\n",
            "It create a 1-d array iterator over theh given array\n",
            "[1 2]\n",
            "Replace the 1:3 elements of above array with 2\n",
            "[[0 2 2]\n",
            " [3 4 5]\n",
            " [6 7 8]]\n"
          ]
        }
      ]
    }
  ]
}